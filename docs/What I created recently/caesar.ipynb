{
 "cells": [
  {
   "attachments": {},
   "cell_type": "markdown",
   "metadata": {},
   "source": [
    "# Caesar Cipher"
   ]
  },
  {
   "attachments": {},
   "cell_type": "markdown",
   "metadata": {},
   "source": [
    "E(x) = (x + n) % 26"
   ]
  },
  {
   "cell_type": "code",
   "execution_count": 1,
   "metadata": {},
   "outputs": [
    {
     "data": {
      "text/plain": [
       "\"Vjh cqn Oxaln kn frcq hxd!\""
      ]
     },
     "execution_count": 1,
     "metadata": {},
     "output_type": "execute_result"
    }
   ],
   "source": [
    "input = \"Vjh cqn Oxaln kn frcq hxd!\""
   ]
  },
  {
   "attachments": {},
   "cell_type": "markdown",
   "metadata": {},
   "source": [
    "The only thing I knew at this moment was: It will loop back to the original string by every 26 turn. So I crack it with brute force: "
   ]
  },
  {
   "cell_type": "code",
   "execution_count": 3,
   "metadata": {},
   "outputs": [
    {
     "name": "stdout",
     "output_type": "stream",
     "text": [
      "0 -> Vjh cqn Oxaln kn frcq hxd!\n",
      "1 -> Wki dro Pybmo lo gsdr iye!\n",
      "2 -> Xlj esp Qzcnp mp htes jzf!\n",
      "3 -> Ymk ftq Radoq nq iuft kag!\n",
      "4 -> Znl gur Sbepr or jvgu lbh!\n",
      "5 -> Aom hvs Tcfqs ps kwhv mci!\n",
      "6 -> Bpn iwt Udgrt qt lxiw ndj!\n",
      "7 -> Cqo jxu Vehsu ru myjx oek!\n",
      "8 -> Drp kyv Wfitv sv nzky pfl!\n",
      "9 -> Esq lzw Xgjuw tw oalz qgm!\n",
      "10 -> Ftr max Yhkvx ux pbma rhn!\n",
      "11 -> Gus nby Zilwy vy qcnb sio!\n",
      "12 -> Hvt ocz Ajmxz wz rdoc tjp!\n",
      "13 -> Iwu pda Bknya xa sepd ukq!\n",
      "14 -> Jxv qeb Clozb yb tfqe vlr!\n",
      "15 -> Kyw rfc Dmpac zc ugrf wms!\n",
      "16 -> Lzx sgd Enqbd ad vhsg xnt!\n",
      "17 -> May the Force be with you!\n",
      "18 -> Nbz uif Gpsdf cf xjui zpv!\n",
      "19 -> Oca vjg Hqteg dg ykvj aqw!\n",
      "20 -> Pdb wkh Irufh eh zlwk brx!\n",
      "21 -> Qec xli Jsvgi fi amxl csy!\n",
      "22 -> Rfd ymj Ktwhj gj bnym dtz!\n",
      "23 -> Sge znk Luxik hk cozn eua!\n",
      "24 -> Thf aol Mvyjl il dpao fvb!\n",
      "25 -> Uig bpm Nwzkm jm eqbp gwc!\n"
     ]
    },
    {
     "data": {
      "text/plain": [
       "26"
      ]
     },
     "execution_count": 3,
     "metadata": {},
     "output_type": "execute_result"
    }
   ],
   "source": [
    "def shift_string_characters(str, i) \n",
    "  new_chars = str.chars.map do |char|\n",
    "    ord = char.ord\n",
    "    case ord\n",
    "    when 65..90\n",
    "      # move ord back to alphabet index, like a/A is 0\n",
    "      ( 65 + (ord - 65 + i) % 26).chr \n",
    "    when 97..122\n",
    "      ( 97 + (ord - 97 + i) % 26).chr\n",
    "    else\n",
    "      char\n",
    "    end\n",
    "  end\n",
    "\n",
    "  new_chars.join\n",
    "end\n",
    "\n",
    "26.times.each do |i|\n",
    "  puts \"#{i} -> \" + shift_string_characters(input, i)\n",
    "end"
   ]
  },
  {
   "attachments": {},
   "cell_type": "markdown",
   "metadata": {},
   "source": [
    "Then I found the answer on i=9 and realized this is also the code to encrypt a string with caesar cipher."
   ]
  },
  {
   "cell_type": "code",
   "execution_count": 4,
   "metadata": {},
   "outputs": [
    {
     "name": "stdout",
     "output_type": "stream",
     "text": [
      "Vjh cqn Oxaln kn frcq hxd!\n"
     ]
    }
   ],
   "source": [
    "def caesar_cipher(string, offset)\n",
    "  new_characters = string.chars.map do |c|\n",
    "    ord = c.ord\n",
    "    \n",
    "    new_ord = case ord\n",
    "    when 65..90 \n",
    "      65 + (ord - 65 + offset) % 26\n",
    "    when 97..122\n",
    "      97 + (ord - 97 + offset) % 26\n",
    "    else\n",
    "      ord\n",
    "    end\n",
    "    new_ord.chr\n",
    "  end\n",
    "\n",
    "  new_characters.join\n",
    "end\n",
    "\n",
    "puts caesar_cipher(\"May the Force be with you!\", 9)\n"
   ]
  },
  {
   "attachments": {},
   "cell_type": "markdown",
   "metadata": {},
   "source": [
    "# A better way\n",
    "\n",
    "I remember I was taught that \"e\" is the most common letter in the English language. Even if the input is small, I still wanted to give it a try."
   ]
  },
  {
   "cell_type": "code",
   "execution_count": 5,
   "metadata": {},
   "outputs": [
    {
     "data": {
      "text/plain": [
       "{\"V\"=>1, \"j\"=>1, \"h\"=>2, \" \"=>5, \"c\"=>2, \"q\"=>2, \"n\"=>3, \"O\"=>1, \"x\"=>2, \"a\"=>1, \"l\"=>1, \"k\"=>1, \"f\"=>1, \"r\"=>1, \"d\"=>1, \"!\"=>1}"
      ]
     },
     "execution_count": 5,
     "metadata": {},
     "output_type": "execute_result"
    }
   ],
   "source": [
    "input = \"Vjh cqn Oxaln kn frcq hxd!\"\n",
    "     \n",
    "input.chars.tally"
   ]
  },
  {
   "attachments": {},
   "cell_type": "markdown",
   "metadata": {},
   "source": [
    "I will pretend not to know the answer beforehand."
   ]
  },
  {
   "cell_type": "code",
   "execution_count": 6,
   "metadata": {},
   "outputs": [
    {
     "name": "stdout",
     "output_type": "stream",
     "text": [
      "9\n"
     ]
    }
   ],
   "source": [
    "puts \"n\".ord - \"e\".ord"
   ]
  },
  {
   "attachments": {},
   "cell_type": "markdown",
   "metadata": {},
   "source": [
    "Now my guess is: some_string is shifted with an offset 9. And since this encryption loops back to the original string every 26 steps. I can shift the string (26-9=17) more times to get the original string."
   ]
  },
  {
   "cell_type": "code",
   "execution_count": 7,
   "metadata": {},
   "outputs": [
    {
     "data": {
      "text/plain": [
       "\"May the Force be with you!\""
      ]
     },
     "execution_count": 7,
     "metadata": {},
     "output_type": "execute_result"
    }
   ],
   "source": [
    "caesar_cipher(input, 17)"
   ]
  },
  {
   "attachments": {},
   "cell_type": "markdown",
   "metadata": {},
   "source": [
    "# Continue discussion\n",
    "\n",
    "\n",
    "- Frequency table does not work for small inputs (also, how to define small?)\n",
    "- Guessing does not guarantee it's correct.\n",
    "\n",
    "The brute force method is a sufficient way to find the answer.\n",
    "\n",
    "But, we found the answer by printing out all the possible combinations:\n",
    "```\n",
    "0 -> Vjh cqn Oxaln kn frcq hxd!\n",
    "1 -> Wki dro Pybmo lo gsdr iye!\n",
    "2 -> Xlj esp Qzcnp mp htes jzf!\n",
    "3 -> Ymk ftq Radoq nq iuft kag!\n",
    "4 -> Znl gur Sbepr or jvgu lbh!\n",
    "5 -> Aom hvs Tcfqs ps kwhv mci!\n",
    "6 -> Bpn iwt Udgrt qt lxiw ndj!\n",
    "7 -> Cqo jxu Vehsu ru myjx oek!\n",
    "...\n",
    "16 -> Lzx sgd Enqbd ad vhsg xnt!\n",
    "17 -> May the Force be with you! < - By human eye\n",
    "```\n",
    "\n",
    "Is there a way to tell which one is the answer?"
   ]
  },
  {
   "cell_type": "code",
   "execution_count": 4,
   "metadata": {},
   "outputs": [
    {
     "data": {
      "text/plain": [
       "[\"Vjh cqn Oxaln kn frcq hxd!\", \"Wki dro Pybmo lo gsdr iye!\", \"Xlj esp Qzcnp mp htes jzf!\", \"Ymk ftq Radoq nq iuft kag!\", \"Znl gur Sbepr or jvgu lbh!\", \"Aom hvs Tcfqs ps kwhv mci!\", \"Bpn iwt Udgrt qt lxiw ndj!\", \"Cqo jxu Vehsu ru myjx oek!\", \"Drp kyv Wfitv sv nzky pfl!\", \"Esq lzw Xgjuw tw oalz qgm!\", \"Ftr max Yhkvx ux pbma rhn!\", \"Gus nby Zilwy vy qcnb sio!\", \"Hvt ocz Ajmxz wz rdoc tjp!\", \"Iwu pda Bknya xa sepd ukq!\", \"Jxv qeb Clozb yb tfqe vlr!\", \"Kyw rfc Dmpac zc ugrf wms!\", \"Lzx sgd Enqbd ad vhsg xnt!\", \"May the Force be with you!\", \"Nbz uif Gpsdf cf xjui zpv!\", \"Oca vjg Hqteg dg ykvj aqw!\", \"Pdb wkh Irufh eh zlwk brx!\", \"Qec xli Jsvgi fi amxl csy!\", \"Rfd ymj Ktwhj gj bnym dtz!\", \"Sge znk Luxik hk cozn eua!\", \"Thf aol Mvyjl il dpao fvb!\", \"Uig bpm Nwzkm jm eqbp gwc!\"]"
      ]
     },
     "execution_count": 4,
     "metadata": {},
     "output_type": "execute_result"
    }
   ],
   "source": [
    "\n",
    "results = 26.times.map do |i|\n",
    "  shift_string_characters(input, i)\n",
    "end"
   ]
  },
  {
   "attachments": {},
   "cell_type": "markdown",
   "metadata": {},
   "source": [
    "I want to start naïve and try to check if the strings containing no vowels"
   ]
  },
  {
   "cell_type": "code",
   "execution_count": 7,
   "metadata": {},
   "outputs": [
    {
     "name": "stdout",
     "output_type": "stream",
     "text": [
      "2\n",
      "Iwu pda Bknya xa sepd ukq!\n",
      "May the Force be with you!\n"
     ]
    }
   ],
   "source": [
    "result_remove_no_vowels = results.reject do |comb|\n",
    "  comb.downcase.split(\" \").any? { |c| !c.match(/a|e|i|o|u/) }\n",
    "end\n",
    "\n",
    "puts result_remove_no_vowels.size\n",
    "puts result_remove_no_vowels"
   ]
  },
  {
   "cell_type": "code",
   "execution_count": null,
   "metadata": {},
   "outputs": [],
   "source": []
  }
 ],
 "metadata": {
  "kernelspec": {
   "display_name": "Ruby 3.0.3",
   "language": "ruby",
   "name": "ruby"
  },
  "language_info": {
   "file_extension": ".rb",
   "mimetype": "application/x-ruby",
   "name": "ruby",
   "version": "3.0.3"
  },
  "orig_nbformat": 4
 },
 "nbformat": 4,
 "nbformat_minor": 2
}
