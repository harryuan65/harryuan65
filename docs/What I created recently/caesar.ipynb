{
 "cells": [
  {
   "attachments": {},
   "cell_type": "markdown",
   "metadata": {},
   "source": [
    "# Caesar Cipher"
   ]
  },
  {
   "attachments": {},
   "cell_type": "markdown",
   "metadata": {},
   "source": [
    "E(x) = (x + n) % 26"
   ]
  },
  {
   "cell_type": "code",
   "execution_count": 65,
   "metadata": {},
   "outputs": [
    {
     "data": {
      "text/plain": [
       "{\"V\"=>1, \"j\"=>1, \"h\"=>2, \" \"=>5, \"c\"=>2, \"q\"=>2, \"n\"=>3, \"O\"=>1, \"x\"=>2, \"a\"=>1, \"l\"=>1, \"k\"=>1, \"f\"=>1, \"r\"=>1, \"d\"=>1, \"!\"=>1}"
      ]
     },
     "execution_count": 65,
     "metadata": {},
     "output_type": "execute_result"
    }
   ],
   "source": [
    "input = \"Vjh cqn Oxaln kn frcq hxd!\"\n",
    "     \n",
    "input.chars.tally"
   ]
  },
  {
   "attachments": {},
   "cell_type": "markdown",
   "metadata": {},
   "source": [
    "I've be taught \"e\" is the most common character in the English language.    \n",
    "\n",
    "Even if the input is small, I doubt that \"n\" is the \"e\".  \n",
    "\n",
    "But I didn't find a way to shift it back. So I crack it with brute force: "
   ]
  },
  {
   "cell_type": "code",
   "execution_count": 67,
   "metadata": {},
   "outputs": [
    {
     "name": "stdout",
     "output_type": "stream",
     "text": [
      "0 -> Vjh cqn Oxaln kn frcq hxd!\n",
      "1 -> Wki dro Pybmo lo gsdr iye!\n",
      "2 -> Xlj esp Qzcnp mp htes jzf!\n",
      "3 -> Ymk ftq Radoq nq iuft kag!\n",
      "4 -> Znl gur Sbepr or jvgu lbh!\n",
      "5 -> Aom hvs Tcfqs ps kwhv mci!\n",
      "6 -> Bpn iwt Udgrt qt lxiw ndj!\n",
      "7 -> Cqo jxu Vehsu ru myjx oek!\n",
      "8 -> Drp kyv Wfitv sv nzky pfl!\n",
      "9 -> Esq lzw Xgjuw tw oalz qgm!\n",
      "10 -> Ftr max Yhkvx ux pbma rhn!\n",
      "11 -> Gus nby Zilwy vy qcnb sio!\n",
      "12 -> Hvt ocz Ajmxz wz rdoc tjp!\n",
      "13 -> Iwu pda Bknya xa sepd ukq!\n",
      "14 -> Jxv qeb Clozb yb tfqe vlr!\n",
      "15 -> Kyw rfc Dmpac zc ugrf wms!\n",
      "16 -> Lzx sgd Enqbd ad vhsg xnt!\n",
      "17 -> May the Force be with you!\n",
      "18 -> Nbz uif Gpsdf cf xjui zpv!\n",
      "19 -> Oca vjg Hqteg dg ykvj aqw!\n",
      "20 -> Pdb wkh Irufh eh zlwk brx!\n",
      "21 -> Qec xli Jsvgi fi amxl csy!\n",
      "22 -> Rfd ymj Ktwhj gj bnym dtz!\n",
      "23 -> Sge znk Luxik hk cozn eua!\n",
      "24 -> Thf aol Mvyjl il dpao fvb!\n",
      "25 -> Uig bpm Nwzkm jm eqbp gwc!\n"
     ]
    },
    {
     "data": {
      "text/plain": [
       "26"
      ]
     },
     "execution_count": 67,
     "metadata": {},
     "output_type": "execute_result"
    }
   ],
   "source": [
    "def shift_string_characters(str, i) \n",
    "  new_chars = str.chars.map do |char|\n",
    "    ord = char.ord\n",
    "    case ord\n",
    "    when 65..90\n",
    "      # move ord back to alphabet index, like a/A is 0\n",
    "      ( 65 + (ord - 65 + i) % 26).chr \n",
    "    when 97..122\n",
    "      ( 97 + (ord - 97 + i) % 26).chr\n",
    "    else\n",
    "      char\n",
    "    end\n",
    "  end\n",
    "\n",
    "  new_chars.join\n",
    "end\n",
    "\n",
    "26.times.each do |i|\n",
    "  puts \"#{i} -> \" + shift_string_characters(input, i)\n",
    "end"
   ]
  },
  {
   "attachments": {},
   "cell_type": "markdown",
   "metadata": {},
   "source": [
    "Then I found the answer on i=17"
   ]
  }
 ],
 "metadata": {
  "kernelspec": {
   "display_name": "Ruby 3.0.3",
   "language": "ruby",
   "name": "ruby"
  },
  "language_info": {
   "file_extension": ".rb",
   "mimetype": "application/x-ruby",
   "name": "ruby",
   "version": "3.0.3"
  },
  "orig_nbformat": 4
 },
 "nbformat": 4,
 "nbformat_minor": 2
}
